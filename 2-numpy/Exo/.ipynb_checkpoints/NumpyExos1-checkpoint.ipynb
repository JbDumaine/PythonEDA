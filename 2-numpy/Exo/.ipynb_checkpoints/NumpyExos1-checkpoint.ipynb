{
 "cells": [
  {
   "cell_type": "code",
   "execution_count": 4,
   "metadata": {},
   "outputs": [],
   "source": [
    "import numpy as np"
   ]
  },
  {
   "cell_type": "markdown",
   "metadata": {},
   "source": [
    "# Quelques fonctions utiles"
   ]
  },
  {
   "cell_type": "markdown",
   "metadata": {},
   "source": [
    "On a créé un tableau 2D `rdm_mat` contenant des valeurs aléatoires. "
   ]
  },
  {
   "cell_type": "code",
   "execution_count": 20,
   "metadata": {},
   "outputs": [],
   "source": [
    "rdm_mat = np.random.random((2,2))\n"
   ]
  },
  {
   "cell_type": "markdown",
   "metadata": {},
   "source": [
    "Donner le type de la variable rdm_mat"
   ]
  },
  {
   "cell_type": "code",
   "execution_count": 21,
   "metadata": {},
   "outputs": [
    {
     "data": {
      "text/plain": [
       "numpy.ndarray"
      ]
     },
     "execution_count": 21,
     "metadata": {},
     "output_type": "execute_result"
    }
   ],
   "source": [
    "type(rdm_mat)"
   ]
  },
  {
   "cell_type": "markdown",
   "metadata": {},
   "source": [
    "Donner la somme des éléments de ce tableau 2D"
   ]
  },
  {
   "cell_type": "code",
   "execution_count": 22,
   "metadata": {},
   "outputs": [
    {
     "data": {
      "text/plain": [
       "1.270136274566608"
      ]
     },
     "execution_count": 22,
     "metadata": {},
     "output_type": "execute_result"
    }
   ],
   "source": [
    "np.sum(rdm_mat)"
   ]
  },
  {
   "cell_type": "markdown",
   "metadata": {},
   "source": [
    "Faire en sorte de récupérer la valeur maximale sur chaque ligne (sans boucles) avec la fonction np.max"
   ]
  },
  {
   "cell_type": "code",
   "execution_count": 23,
   "metadata": {},
   "outputs": [
    {
     "name": "stdout",
     "output_type": "stream",
     "text": [
      "[[0.09746919 0.37407774]\n",
      " [0.13837503 0.66021431]]\n"
     ]
    },
    {
     "data": {
      "text/plain": [
       "array([0.37407774, 0.66021431])"
      ]
     },
     "execution_count": 23,
     "metadata": {},
     "output_type": "execute_result"
    }
   ],
   "source": [
    "print(rdm_mat)\n",
    "np.amax(rdm_mat, axis=1)"
   ]
  },
  {
   "cell_type": "markdown",
   "metadata": {},
   "source": [
    "Faire de même pour récupérer la valeur maximum pour chaque colonne (sans boucles)"
   ]
  },
  {
   "cell_type": "code",
   "execution_count": 24,
   "metadata": {},
   "outputs": [
    {
     "data": {
      "text/plain": [
       "array([0.13837503, 0.66021431])"
      ]
     },
     "execution_count": 24,
     "metadata": {},
     "output_type": "execute_result"
    }
   ],
   "source": [
    "np.amax(rdm_mat, axis=0)"
   ]
  },
  {
   "cell_type": "markdown",
   "metadata": {},
   "source": [
    "Faire la même chose (max des lignes) en définissant un tableau avec une boucle for et la fonction max de numpy"
   ]
  },
  {
   "cell_type": "code",
   "execution_count": 25,
   "metadata": {},
   "outputs": [],
   "source": [
    "l = [x for x in range(11)]"
   ]
  },
  {
   "cell_type": "code",
   "execution_count": 28,
   "metadata": {},
   "outputs": [
    {
     "data": {
      "text/plain": [
       "10"
      ]
     },
     "execution_count": 28,
     "metadata": {},
     "output_type": "execute_result"
    }
   ],
   "source": [
    "np.max(l)"
   ]
  },
  {
   "cell_type": "code",
   "execution_count": 30,
   "metadata": {},
   "outputs": [
    {
     "data": {
      "text/plain": [
       "0"
      ]
     },
     "execution_count": 30,
     "metadata": {},
     "output_type": "execute_result"
    }
   ],
   "source": [
    "np.min(l)"
   ]
  },
  {
   "cell_type": "markdown",
   "metadata": {},
   "source": [
    "On crée un vecteur aléatoire de taille 100 `rdm_vect`"
   ]
  },
  {
   "cell_type": "code",
   "execution_count": 33,
   "metadata": {},
   "outputs": [
    {
     "data": {
      "text/plain": [
       "(100,)"
      ]
     },
     "execution_count": 33,
     "metadata": {},
     "output_type": "execute_result"
    }
   ],
   "source": [
    "rdm_vect = np.random.randn(100)\n",
    "rdm_vect.shape"
   ]
  },
  {
   "cell_type": "markdown",
   "metadata": {},
   "source": [
    "Récupérer la position de la valeur maximale du vecteur avec la méthode np.argmax"
   ]
  },
  {
   "cell_type": "code",
   "execution_count": 34,
   "metadata": {},
   "outputs": [
    {
     "data": {
      "text/plain": [
       "44"
      ]
     },
     "execution_count": 34,
     "metadata": {},
     "output_type": "execute_result"
    }
   ],
   "source": [
    "np.argmax(rdm_vect)"
   ]
  },
  {
   "cell_type": "markdown",
   "metadata": {},
   "source": [
    "Afficher cette valeur "
   ]
  },
  {
   "cell_type": "code",
   "execution_count": 35,
   "metadata": {},
   "outputs": [
    {
     "name": "stdout",
     "output_type": "stream",
     "text": [
      "44\n"
     ]
    }
   ],
   "source": [
    "print(np.argmax(rdm_vect))"
   ]
  },
  {
   "cell_type": "markdown",
   "metadata": {},
   "source": [
    "Convertir le vecteur en un tableau 10, 10"
   ]
  },
  {
   "cell_type": "code",
   "execution_count": 38,
   "metadata": {},
   "outputs": [
    {
     "data": {
      "text/plain": [
       "array([[ 0.40717147, -1.10027027, -0.80689046, -0.60096769,  0.2981575 ,\n",
       "        -0.13766542,  0.67429495, -1.4161533 ,  0.17001887,  1.62303969],\n",
       "       [ 0.04248387,  1.29546875,  0.68566284, -1.01904827, -0.10485681,\n",
       "         0.41386588,  1.48516879,  0.51686784, -1.21273221, -0.7138774 ],\n",
       "       [ 0.14932591, -0.65656442,  0.628958  , -0.31110745,  1.27013731,\n",
       "         0.72221454, -0.21487143,  0.85905425,  0.14940571,  0.83567096],\n",
       "       [ 1.59855225,  1.43990263, -1.06412562,  0.70137909, -0.75882748,\n",
       "        -0.67207979, -1.17759205, -0.0172676 ,  1.68318139,  0.72188123],\n",
       "       [-0.22263216,  0.51522503, -0.69004525, -1.71097025,  1.69185644,\n",
       "        -1.04033023,  1.67543452,  0.77333309,  0.04187284,  0.81423439],\n",
       "       [ 0.51332808, -1.67710527, -0.40507527, -0.34785646,  0.29236184,\n",
       "         0.58798191,  1.19084605,  1.39045532, -0.11567948, -0.35515408],\n",
       "       [-0.80820837,  1.42998754, -0.91286833,  1.30327676,  1.1085939 ,\n",
       "        -1.05609669, -1.25653358, -0.42520504, -0.21297537, -0.10999512],\n",
       "       [ 0.62582169, -0.5033286 , -2.33714698,  1.29147409,  0.42666845,\n",
       "        -1.43795981, -1.41418363, -0.25705317, -1.13022285, -0.62476836],\n",
       "       [ 1.02457108,  1.60575584, -0.31338633, -0.41936451, -0.76703253,\n",
       "         0.9398197 ,  0.47308817,  0.8315997 ,  0.21662924, -1.03334582],\n",
       "       [-1.72559048, -1.23418675,  0.2199264 ,  1.68305625,  0.03921023,\n",
       "        -0.45894955,  0.82566778,  0.95955646, -1.36812956, -3.37583159]])"
      ]
     },
     "execution_count": 38,
     "metadata": {},
     "output_type": "execute_result"
    }
   ],
   "source": [
    "rdm_vect.reshape(10,10)"
   ]
  },
  {
   "cell_type": "markdown",
   "metadata": {},
   "source": [
    "Calculer la moyenne de chaque ligne de ce tableau (sans boucles)"
   ]
  },
  {
   "cell_type": "code",
   "execution_count": 40,
   "metadata": {},
   "outputs": [
    {
     "data": {
      "text/plain": [
       "array([-0.08892647,  0.13890033,  0.34322234,  0.2455004 ,  0.18479784,\n",
       "        0.10741026, -0.09400243, -0.53606992,  0.25583345, -0.44352708])"
      ]
     },
     "execution_count": 40,
     "metadata": {},
     "output_type": "execute_result"
    }
   ],
   "source": [
    "rdm_vect.reshape(10,10).mean(axis=1)"
   ]
  },
  {
   "cell_type": "markdown",
   "metadata": {},
   "source": [
    "Faire un tableau qui contient la moyenne de chaque colonne du tableau "
   ]
  },
  {
   "cell_type": "markdown",
   "metadata": {},
   "source": [
    "Calculer la somme de chaque colonne (sans boucles)"
   ]
  },
  {
   "cell_type": "code",
   "execution_count": 41,
   "metadata": {},
   "outputs": [
    {
     "data": {
      "text/plain": [
       "array([ 1.60482333,  1.11488447, -4.99499101,  0.56987157,  3.49626887,\n",
       "       -2.13919948,  2.26131958,  3.21518754, -1.77863142, -2.21814609])"
      ]
     },
     "execution_count": 41,
     "metadata": {},
     "output_type": "execute_result"
    }
   ],
   "source": [
    "rdm_vect.reshape(10,10).sum(axis=0)"
   ]
  },
  {
   "cell_type": "markdown",
   "metadata": {},
   "source": [
    "Calculer la somme pour chaque ligne (sans boucles)"
   ]
  },
  {
   "cell_type": "code",
   "execution_count": 42,
   "metadata": {},
   "outputs": [
    {
     "data": {
      "text/plain": [
       "array([-0.88926466,  1.38900329,  3.43222338,  2.45500405,  1.84797842,\n",
       "        1.07410264, -0.9400243 , -5.36069919,  2.55833453, -4.43527081])"
      ]
     },
     "execution_count": 42,
     "metadata": {},
     "output_type": "execute_result"
    }
   ],
   "source": [
    "rdm_vect.reshape(10,10).sum(axis=1)"
   ]
  },
  {
   "cell_type": "code",
   "execution_count": null,
   "metadata": {},
   "outputs": [],
   "source": []
  }
 ],
 "metadata": {
  "kernelspec": {
   "display_name": "Python 3",
   "language": "python",
   "name": "python3"
  },
  "language_info": {
   "codemirror_mode": {
    "name": "ipython",
    "version": 3
   },
   "file_extension": ".py",
   "mimetype": "text/x-python",
   "name": "python",
   "nbconvert_exporter": "python",
   "pygments_lexer": "ipython3",
   "version": "3.6.9"
  },
  "latex_envs": {
   "LaTeX_envs_menu_present": true,
   "autoclose": false,
   "autocomplete": true,
   "bibliofile": "biblio.bib",
   "cite_by": "apalike",
   "current_citInitial": 1,
   "eqLabelWithNumbers": true,
   "eqNumInitial": 1,
   "hotkeys": {
    "equation": "Ctrl-E",
    "itemize": "Ctrl-I"
   },
   "labels_anchors": false,
   "latex_user_defs": false,
   "report_style_numbering": false,
   "user_envs_cfg": false
  },
  "toc": {
   "base_numbering": 1,
   "nav_menu": {},
   "number_sections": true,
   "sideBar": true,
   "skip_h1_title": false,
   "title_cell": "Table of Contents",
   "title_sidebar": "Contents",
   "toc_cell": false,
   "toc_position": {},
   "toc_section_display": true,
   "toc_window_display": false
  },
  "varInspector": {
   "cols": {
    "lenName": 16,
    "lenType": 16,
    "lenVar": 40
   },
   "kernels_config": {
    "python": {
     "delete_cmd_postfix": "",
     "delete_cmd_prefix": "del ",
     "library": "var_list.py",
     "varRefreshCmd": "print(var_dic_list())"
    },
    "r": {
     "delete_cmd_postfix": ") ",
     "delete_cmd_prefix": "rm(",
     "library": "var_list.r",
     "varRefreshCmd": "cat(var_dic_list()) "
    }
   },
   "types_to_exclude": [
    "module",
    "function",
    "builtin_function_or_method",
    "instance",
    "_Feature"
   ],
   "window_display": false
  }
 },
 "nbformat": 4,
 "nbformat_minor": 2
}
