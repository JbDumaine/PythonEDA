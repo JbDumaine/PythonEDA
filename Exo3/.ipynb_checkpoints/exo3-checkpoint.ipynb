{
 "cells": [
  {
   "cell_type": "code",
   "execution_count": null,
   "metadata": {},
   "outputs": [],
   "source": [
    "class DateNaissance:\n",
    "  \n",
    "\n",
    "    \n",
    "class Personne:\n",
    "    \n",
    "\n",
    "    \n",
    "class Employe:\n",
    "    \n",
    "\n",
    "Class Chef:\n",
    "    "
   ]
  }
 ],
 "metadata": {
  "kernelspec": {
   "display_name": "Python 3",
   "language": "python",
   "name": "python3"
  },
  "language_info": {
   "codemirror_mode": {
    "name": "ipython",
    "version": 3
   },
   "file_extension": ".py",
   "mimetype": "text/x-python",
   "name": "python",
   "nbconvert_exporter": "python",
   "pygments_lexer": "ipython3",
   "version": "3.6.9"
  }
 },
 "nbformat": 4,
 "nbformat_minor": 4
}
