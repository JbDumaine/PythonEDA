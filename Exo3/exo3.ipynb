{
 "cells": [
  {
   "cell_type": "code",
   "execution_count": 6,
   "metadata": {},
   "outputs": [
    {
     "output_type": "stream",
     "name": "stdout",
     "text": [
      "Nom: Ilyass\nPrenom: Math\nDate de naissance: 1 / 7 / 1982\nNom: Ilyass\nPrenom: Math\nDate de naissance: 1 / 7 / 1985\nSalaire: 7865.548\nNom: Dupont\nPrenom: Paul\nDate de naissance: 13 / 10 / 1993\nSalaire: 1150.0\nService: RH\n"
     ]
    }
   ],
   "source": [
    "class DateNaissance:\n",
    "    def __init__(self,day,month,year):\n",
    "        self.day = day\n",
    "        self.month = month\n",
    "        self.year = year\n",
    "\n",
    "    def __str__(self):\n",
    "        return (\"{} / {} / {}\").format(self.day, self.month, self.year)\n",
    "\n",
    "    \n",
    "class Personne:\n",
    "    def __init__(self, lastname,firstname, dateNaissance):\n",
    "        self.lastname = lastname\n",
    "        self.firstname = firstname\n",
    "        self.dateNaissance = dateNaissance\n",
    "    \n",
    "    def show(self):\n",
    "        print(\"Nom: {}\".format(self.lastname))\n",
    "        print(\"Prenom: {}\".format(self.firstname))\n",
    "        print(\"Date de naissance: {}\".format(self.dateNaissance))\n",
    "\n",
    "    \n",
    "class Employe(Personne):\n",
    "    def __init__(self,lastname,firstname,dateNaissance,salaire):\n",
    "        super().__init__(lastname, firstname, dateNaissance)\n",
    "        self.salaire = salaire\n",
    "\n",
    "    def show(self):\n",
    "        super().show()\n",
    "        print(\"Salaire: {}\".format(self.salaire))\n",
    "\n",
    "\n",
    "class Chef(Employe):\n",
    "\n",
    "    def __init__(self,lastname,firstname,dateNaissance,salaire, service):\n",
    "        super().__init__(lastname, firstname, dateNaissance, salaire)\n",
    "        self.service = service\n",
    "\n",
    "    def show(self):\n",
    "        super().show()\n",
    "        print(\"Service: {}\".format(self.service))\n",
    "\n",
    "\n",
    "P = Personne(\"Ilyass\",\"Math\",DateNaissance(1,7,1982))\n",
    "P.show()\n",
    "\n",
    "E = Employe(\"Ilyass\",\"Math\",DateNaissance(1,7,1985),7865.548)\n",
    "E.show()\n",
    "\n",
    "Ch = Chef(\"Dupont\",\"Paul\",DateNaissance(13,10,1993),1150.0, \"RH\")\n",
    "Ch.show()\n",
    "\n",
    "    "
   ]
  },
  {
   "cell_type": "code",
   "execution_count": null,
   "metadata": {},
   "outputs": [],
   "source": []
  }
 ],
 "metadata": {
  "kernelspec": {
   "display_name": "Python 3",
   "language": "python",
   "name": "python3"
  },
  "language_info": {
   "codemirror_mode": {
    "name": "ipython",
    "version": 3
   },
   "file_extension": ".py",
   "mimetype": "text/x-python",
   "name": "python",
   "nbconvert_exporter": "python",
   "pygments_lexer": "ipython3",
   "version": "3.7.9-final"
  }
 },
 "nbformat": 4,
 "nbformat_minor": 4
}